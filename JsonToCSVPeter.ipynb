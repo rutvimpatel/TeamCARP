{
 "cells": [
  {
   "cell_type": "code",
   "execution_count": 34,
   "metadata": {
    "collapsed": true
   },
   "outputs": [],
   "source": [
    "import fileinput\n",
    "import json\n",
    "import csv\n"
   ]
  },
  {
   "cell_type": "code",
   "execution_count": 33,
   "metadata": {
    "collapsed": false
   },
   "outputs": [],
   "source": [
    "f = fileinput.input(files = \"reviews_Kindle_Store_5.json\")"
   ]
  },
  {
   "cell_type": "code",
   "execution_count": 35,
   "metadata": {
    "collapsed": true
   },
   "outputs": [],
   "source": [
    "writer = csv.writer(open(\"testKS2.csv\", 'wb'))"
   ]
  },
  {
   "cell_type": "code",
   "execution_count": 32,
   "metadata": {
    "collapsed": false
   },
   "outputs": [],
   "source": [
    "count = 0\n",
    "for line in f:\n",
    "    json_parsed = json.loads(line)\n",
    "    if count == 0:\n",
    "        header = json_parsed.keys()\n",
    "        writer.writerow(header)\n",
    "        count += 1\n",
    "    writer.writerow(json_parsed.values())"
   ]
  },
  {
   "cell_type": "code",
   "execution_count": 37,
   "metadata": {
    "collapsed": false
   },
   "outputs": [],
   "source": [
    "count2 = 0\n",
    "with open(\"reviews_Kindle_Store_5.json\") as infile:\n",
    "    for line2 in infile:\n",
    "        json_parsed2 = json.loads(line2)\n",
    "        if count2 == 0:\n",
    "            header = json_parsed2.keys()\n",
    "            writer.writerow(header)\n",
    "            count2 += 1\n",
    "        writer.writerow(json_parsed2.values())"
   ]
  }
 ],
 "metadata": {
  "anaconda-cloud": {},
  "kernelspec": {
   "display_name": "Python [Root]",
   "language": "python",
   "name": "Python [Root]"
  },
  "language_info": {
   "codemirror_mode": {
    "name": "ipython",
    "version": 2
   },
   "file_extension": ".py",
   "mimetype": "text/x-python",
   "name": "python",
   "nbconvert_exporter": "python",
   "pygments_lexer": "ipython2",
   "version": "2.7.12"
  }
 },
 "nbformat": 4,
 "nbformat_minor": 0
}
