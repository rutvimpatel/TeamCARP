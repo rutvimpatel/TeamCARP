{
 "cells": [
  {
   "cell_type": "code",
   "execution_count": 3,
   "metadata": {
    "collapsed": true
   },
   "outputs": [],
   "source": [
    "import json \n",
    "import csv"
   ]
  },
  {
   "cell_type": "code",
   "execution_count": 4,
   "metadata": {
    "collapsed": true
   },
   "outputs": [],
   "source": [
    "writer = csv.writer(open(\"booksOutputWithFeatures.csv\", 'wb'))"
   ]
  },
  {
   "cell_type": "code",
   "execution_count": 57,
   "metadata": {
    "collapsed": false
   },
   "outputs": [],
   "source": [
    "#### FOR OUR FULL JSON TO CSV WITH HELPFUL COLUMNS SPLIT\n",
    "\n",
    "count2 = 0\n",
    "with open(\"../music.json\") as infile:\n",
    "    for line2 in infile:\n",
    "        json_parsed2 = json.loads(line2)\n",
    "        if count2 == 0:\n",
    "            header = json_parsed2.keys()\n",
    "            header.append(\"foundHelpful\")\n",
    "            header.append(\"totalVoted\")\n",
    "            writer.writerow(header)\n",
    "            count2 += 1\n",
    "        else: \n",
    "            currRow = json_parsed2.values()\n",
    "            helpfulList = json_parsed2['helpful']\n",
    "            helpful0 = helpfulList[0]\n",
    "            helpful1 = helpfulList[1]\n",
    "            currRow.append(helpful0)\n",
    "            currRow.append(helpful1)\n",
    "            writer.writerow(currRow)"
   ]
  },
  {
   "cell_type": "code",
   "execution_count": 59,
   "metadata": {
    "collapsed": true
   },
   "outputs": [],
   "source": [
    "#### FULL JSON TO CSV NO HELPFUL COLUMNS SPLIT\n",
    "count2 = 0\n",
    "with open(\"../music.json\") as infile:\n",
    "    for line2 in infile:\n",
    "        json_parsed2 = json.loads(line2)\n",
    "        if count2 == 0:\n",
    "            header = json_parsed2.keys()\n",
    "            #header.append(\"foundHelpful\")\n",
    "            #header.append(\"totalVoted\")\n",
    "            writer.writerow(header)\n",
    "            count2 += 1\n",
    "        else: \n",
    "            currRow = json_parsed2.values()\n",
    "            #helpfulList = json_parsed2['helpful']\n",
    "            #helpful0 = helpfulList[0]\n",
    "            #helpful1 = helpfulList[1]\n",
    "            #currRow.append(helpful0)\n",
    "            #currRow.append(helpful1)\n",
    "            writer.writerow(currRow)"
   ]
  },
  {
   "cell_type": "code",
   "execution_count": 5,
   "metadata": {
    "collapsed": false
   },
   "outputs": [],
   "source": [
    "#### FULL JSON TO CSV WITH HELPFUL NO 0S\n",
    "count2 = 0\n",
    "with open(\"../reviews_Books.json\") as infile:\n",
    "    for line2 in infile:\n",
    "        json_parsed2 = json.loads(line2)\n",
    "        # If it's initial then add headers\n",
    "        if count2 == 0:\n",
    "            header = json_parsed2.keys()\n",
    "            # Add new headers\n",
    "            header.append(\"foundHelpful\")\n",
    "            header.append(\"totalVoted\")\n",
    "            header.append(\"helpfulnessRatio\")\n",
    "            header.append(\"charCount\")\n",
    "            header.append(\"wordCount\")\n",
    "            header.append(\"averageWordLength\")\n",
    "            header.append(\"capitalRatio\")\n",
    "            header.append(\"exclamationRatio\")\n",
    "            header.append(\"periodRatio\")\n",
    "            header.append(\"commaRatio\")\n",
    "            \n",
    "            # Write our header\n",
    "            writer.writerow(header)\n",
    "            \n",
    "            # Increment to take out of header\n",
    "            count2 += 1\n",
    "        #Not first line\n",
    "        else: \n",
    "            currRow = json_parsed2.values()\n",
    "            # Access helpful column\n",
    "            helpfulList = json_parsed2['helpful']\n",
    "            if (helpfulList[1] != 0):\n",
    "                helpful0 = helpfulList[0]\n",
    "                helpful1 = helpfulList[1]\n",
    "                currRow.append(helpful0)\n",
    "                currRow.append(helpful1)\n",
    "                \n",
    "                # Helpfulness Ratio\n",
    "                helpfulnessRatio = (float(helpful0) * (float(helpful0) / float(helpful1)))\n",
    "                      \n",
    "                # Access our review\n",
    "                review = json_parsed2['reviewText']\n",
    "\n",
    "                # Remove our punctuation\n",
    "                filtered = ''.join(filter(lambda x: x not in '\".,;!-', review))\n",
    "\n",
    "                # Char and word count\n",
    "                charCount = len(review)\n",
    "                wordCount = len(filtered.split())\n",
    "                \n",
    "                # Instantiate Variables\n",
    "                avg = 0\n",
    "                capRatio = 0\n",
    "                exclamationRatio = 0\n",
    "                periodRatio = 0\n",
    "                commaRatio = 0\n",
    "                \n",
    "                # Check for empty review text\n",
    "                if (charCount != 0):\n",
    "                    \n",
    "                    # Average length for words\n",
    "                    words = [word for word in filtered.split() if word]\n",
    "                    if (len(words) != 0):\n",
    "                        avg = sum(map(len, words))/len(words)\n",
    "\n",
    "                    # Count of cap chars\n",
    "                    capRatio = sum(1 for c in filtered if c.isupper()) / charCount\n",
    "\n",
    "                    # Ratio of ! . ,\n",
    "                    exclamationRatio = float(review.count('!')) / float(charCount)\n",
    "                    periodRatio = float(review.count('.')) / float(charCount)\n",
    "                    commaRatio = float(review.count(',')) / float(charCount)\n",
    "                    \n",
    "                # Append our values\n",
    "                currRow.append(charCount)\n",
    "                currRow.append(wordCount)\n",
    "                currRow.append(avg)\n",
    "                currRow.append(capRatio)\n",
    "                currRow.append(exclamationRatio)\n",
    "                currRow.append(periodRatio)\n",
    "                currRow.append(commaRatio)\n",
    "                \n",
    "                # Write our row\n",
    "                writer.writerow(currRow)"
   ]
  }
 ],
 "metadata": {
  "anaconda-cloud": {},
  "kernelspec": {
   "display_name": "Python [Root]",
   "language": "python",
   "name": "Python [Root]"
  },
  "language_info": {
   "codemirror_mode": {
    "name": "ipython",
    "version": 2
   },
   "file_extension": ".py",
   "mimetype": "text/x-python",
   "name": "python",
   "nbconvert_exporter": "python",
   "pygments_lexer": "ipython2",
   "version": "2.7.12"
  }
 },
 "nbformat": 4,
 "nbformat_minor": 0
}
