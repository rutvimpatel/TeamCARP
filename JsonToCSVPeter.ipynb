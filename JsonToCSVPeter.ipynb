{
 "cells": [
  {
   "cell_type": "code",
   "execution_count": 34,
   "metadata": {
    "collapsed": true
   },
   "outputs": [],
   "source": [
    "import json\n",
    "import csv"
   ]
  },
  {
   "cell_type": "code",
   "execution_count": 62,
   "metadata": {
    "collapsed": true
   },
   "outputs": [],
   "source": [
    "writer = csv.writer(open(\"booksOutput.csv\", 'wb'))"
   ]
  },
  {
   "cell_type": "code",
   "execution_count": 57,
   "metadata": {
    "collapsed": false
   },
   "outputs": [],
   "source": [
    "#### FOR OUR FULL JSON TO CSV WITH HELPFUL COLUMNS SPLIT\n",
    "\n",
    "count2 = 0\n",
    "with open(\"../music.json\") as infile:\n",
    "    for line2 in infile:\n",
    "        json_parsed2 = json.loads(line2)\n",
    "        if count2 == 0:\n",
    "            header = json_parsed2.keys()\n",
    "            header.append(\"foundHelpful\")\n",
    "            header.append(\"totalVoted\")\n",
    "            writer.writerow(header)\n",
    "            count2 += 1\n",
    "        else: \n",
    "            currRow = json_parsed2.values()\n",
    "            helpfulList = json_parsed2['helpful']\n",
    "            helpful0 = helpfulList[0]\n",
    "            helpful1 = helpfulList[1]\n",
    "            currRow.append(helpful0)\n",
    "            currRow.append(helpful1)\n",
    "            writer.writerow(currRow)"
   ]
  },
  {
   "cell_type": "code",
   "execution_count": 59,
   "metadata": {
    "collapsed": true
   },
   "outputs": [],
   "source": [
    "#### FULL JSON TO CSV NO HELPFUL COLUMNS SPLIT\n",
    "count2 = 0\n",
    "with open(\"../music.json\") as infile:\n",
    "    for line2 in infile:\n",
    "        json_parsed2 = json.loads(line2)\n",
    "        if count2 == 0:\n",
    "            header = json_parsed2.keys()\n",
    "            #header.append(\"foundHelpful\")\n",
    "            #header.append(\"totalVoted\")\n",
    "            writer.writerow(header)\n",
    "            count2 += 1\n",
    "        else: \n",
    "            currRow = json_parsed2.values()\n",
    "            #helpfulList = json_parsed2['helpful']\n",
    "            #helpful0 = helpfulList[0]\n",
    "            #helpful1 = helpfulList[1]\n",
    "            #currRow.append(helpful0)\n",
    "            #currRow.append(helpful1)\n",
    "            writer.writerow(currRow)"
   ]
  },
  {
   "cell_type": "code",
   "execution_count": 63,
   "metadata": {
    "collapsed": true
   },
   "outputs": [],
   "source": [
    "#### FULL JSON TO CSV WITH HELPFUL NO 0S\n",
    "\n",
    "count2 = 0\n",
    "with open(\"../reviews_Books.json\") as infile:\n",
    "    for line2 in infile:\n",
    "        json_parsed2 = json.loads(line2)\n",
    "        if count2 == 0:\n",
    "            header = json_parsed2.keys()\n",
    "            header.append(\"foundHelpful\")\n",
    "            header.append(\"totalVoted\")\n",
    "            writer.writerow(header)\n",
    "            count2 += 1\n",
    "        else: \n",
    "            currRow = json_parsed2.values()\n",
    "            helpfulList = json_parsed2['helpful']\n",
    "            if (helpfulList[1] != 0):\n",
    "                helpful0 = helpfulList[0]\n",
    "                helpful1 = helpfulList[1]\n",
    "                currRow.append(helpful0)\n",
    "                currRow.append(helpful1)\n",
    "                writer.writerow(currRow)"
   ]
  }
 ],
 "metadata": {
  "anaconda-cloud": {},
  "kernelspec": {
   "display_name": "Python [Root]",
   "language": "python",
   "name": "Python [Root]"
  },
  "language_info": {
   "codemirror_mode": {
    "name": "ipython",
    "version": 2
   },
   "file_extension": ".py",
   "mimetype": "text/x-python",
   "name": "python",
   "nbconvert_exporter": "python",
   "pygments_lexer": "ipython2",
   "version": "2.7.12"
  }
 },
 "nbformat": 4,
 "nbformat_minor": 0
}
