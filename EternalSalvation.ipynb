{
 "cells": [
  {
   "cell_type": "code",
   "execution_count": null,
   "metadata": {
    "collapsed": true
   },
   "outputs": [],
   "source": [
    "import ast\n",
    "import pandas as pd\n",
    "counter = 0\n",
    "dictList = []\n",
    "df = pd.DataFrame({'reviewerID': [],\n",
    "               'asin': [],\n",
    "               'reviewerName': [],\n",
    "               'helpful': [],\n",
    "               'reviewText': [],\n",
    "               'overall': [],\n",
    "               'summary': [],\n",
    "               'unixReviewTime': [],\n",
    "                'reviewTime': []\n",
    "               })\n",
    "\n",
    "with open(\"reviews_Books_5.json\") as myfile:\n",
    "    while counter < 500:\n",
    "        #print(next(myfile))\n",
    "        temp = ast.literal_eval(next(myfile))\n",
    "        dictList.append(temp)\n",
    "        counter = counter + 1\n",
    "\n",
    "dfNew = pd.DataFrame(dictList)\n",
    "    \n",
    "\n",
    "dfNew.to_csv(\"500line.csv\")"
   ]
  }
 ],
 "metadata": {
  "anaconda-cloud": {},
  "kernelspec": {
   "display_name": "Python [Root]",
   "language": "python",
   "name": "Python [Root]"
  },
  "language_info": {
   "codemirror_mode": {
    "name": "ipython",
    "version": 2
   },
   "file_extension": ".py",
   "mimetype": "text/x-python",
   "name": "python",
   "nbconvert_exporter": "python",
   "pygments_lexer": "ipython2",
   "version": "2.7.12"
  }
 },
 "nbformat": 4,
 "nbformat_minor": 0
}
